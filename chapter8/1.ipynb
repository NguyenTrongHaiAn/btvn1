{
  "nbformat": 4,
  "nbformat_minor": 0,
  "metadata": {
    "colab": {
      "provenance": [],
      "authorship_tag": "ABX9TyPAB45zVBgFmelVmbmFlzjV",
      "include_colab_link": true
    },
    "kernelspec": {
      "name": "python3",
      "display_name": "Python 3"
    },
    "language_info": {
      "name": "python"
    }
  },
  "cells": [
    {
      "cell_type": "markdown",
      "metadata": {
        "id": "view-in-github",
        "colab_type": "text"
      },
      "source": [
        "<a href=\"https://colab.research.google.com/github/NguyenTrongHaiAn/btvn1/blob/main/chapter8/1.ipynb\" target=\"_parent\"><img src=\"https://colab.research.google.com/assets/colab-badge.svg\" alt=\"Open In Colab\"/></a>"
      ]
    },
    {
      "cell_type": "code",
      "execution_count": null,
      "metadata": {
        "id": "co7RpZFwAuZF"
      },
      "outputs": [],
      "source": [
        "import pathlib\n",
        "imgdir_path = pathlib.Path('cat_dog_images')\n",
        "file_list = sorted([str(path) for path in imgdir_path.glob('*.jpg')])\n",
        "print(file_list)"
      ]
    },
    {
      "cell_type": "code",
      "source": [
        "import matplotlib.pyplot as plt\n",
        "import os\n",
        "import tensorflow as tf\n",
        "\n",
        "fig = plt.figure(figsize=(10,5))\n",
        "for i, file in enumerate(file_list):\n",
        "    img_raw = tf.io.read_file(file)\n",
        "    img = tf.image.decode_image(img_raw)\n",
        "    print('Image Size:', img.shape)\n",
        "    ax = fig.add_subplot(2,3,i+1)\n",
        "    ax.set_xticks([]); ax.set_yticks([])\n",
        "    ax.imshow(img)\n",
        "    ax.set_title(os.path.basename(file),size=15)\n",
        "plt.tight_layout()\n",
        "plt.show()"
      ],
      "metadata": {
        "id": "vB4XX5A0A9OJ"
      },
      "execution_count": null,
      "outputs": []
    },
    {
      "cell_type": "code",
      "source": [
        "labels = [1 if 'dog' in os.path.basename(file) else 0 for file in file_list]\n",
        "print(labels)"
      ],
      "metadata": {
        "id": "806UDNI4A9yg"
      },
      "execution_count": null,
      "outputs": []
    },
    {
      "cell_type": "code",
      "source": [
        "ds_file_labels = tf.data.Dataset.from_tensor_slices((file_list,labels))\n",
        "for item in ds_file_labels:\n",
        "    print(item[0].numpy(), item[1].numpy())"
      ],
      "metadata": {
        "id": "iu45NkUsA_8I"
      },
      "execution_count": null,
      "outputs": []
    },
    {
      "cell_type": "code",
      "source": [
        "def load_and_preprocess(path,label):\n",
        "    image = tf.io.read_file(path)\n",
        "    image = tf.image.decode_jpeg(image, channels=3)\n",
        "    image = tf.image.resize(image, [img_height, img_width])\n",
        "    image /= 255.0\n",
        "    return image, label\n",
        "img_width, img_height=120,80\n",
        "ds_images_labels = ds_file_labels.map(load_and_preprocess)\n",
        "fig = plt.figure(figure=(10,5))\n",
        "for i, example in enumerate(ds_images_labels):\n",
        "    print(example[0].shape,example[1].numpy())\n",
        "    ax = fig.add_subplot(2,3,i+1)\n",
        "    ax.set_xticks([]); ax.set_yticks([])\n",
        "    ax.imshow(example[0])\n",
        "    ax.set_title('{}'.format(example[1].numpy()),size=15)\n",
        "\n",
        "plt.tight_layout()\n",
        "plt.show()"
      ],
      "metadata": {
        "id": "0pbOMbqyBClW"
      },
      "execution_count": null,
      "outputs": []
    }
  ]
}