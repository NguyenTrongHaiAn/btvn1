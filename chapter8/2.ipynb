{
  "nbformat": 4,
  "nbformat_minor": 0,
  "metadata": {
    "colab": {
      "provenance": [],
      "authorship_tag": "ABX9TyMpGxlujHjkDJGztKFmQ0o/",
      "include_colab_link": true
    },
    "kernelspec": {
      "name": "python3",
      "display_name": "Python 3"
    },
    "language_info": {
      "name": "python"
    }
  },
  "cells": [
    {
      "cell_type": "markdown",
      "metadata": {
        "id": "view-in-github",
        "colab_type": "text"
      },
      "source": [
        "<a href=\"https://colab.research.google.com/github/NguyenTrongHaiAn/btvn1/blob/main/chapter8/2.ipynb\" target=\"_parent\"><img src=\"https://colab.research.google.com/assets/colab-badge.svg\" alt=\"Open In Colab\"/></a>"
      ]
    },
    {
      "cell_type": "code",
      "execution_count": 1,
      "metadata": {
        "colab": {
          "base_uri": "https://localhost:8080/"
        },
        "id": "8-QKNgeYBQGb",
        "outputId": "e9f3649d-bb4d-4aa5-e0e1-7a37ba6a4321"
      },
      "outputs": [
        {
          "output_type": "stream",
          "name": "stdout",
          "text": [
            "[0.16513085 0.9014813  0.6309742  0.4345461  0.29193902 0.64250207]\n"
          ]
        },
        {
          "output_type": "execute_result",
          "data": {
            "text/plain": [
              "[array([0.16513085, 0.9014813 ], dtype=float32),\n",
              " array([0.6309742, 0.4345461], dtype=float32),\n",
              " array([0.29193902, 0.64250207], dtype=float32)]"
            ]
          },
          "metadata": {},
          "execution_count": 1
        }
      ],
      "source": [
        "\n",
        "import tensorflow as tf\n",
        "tf.random.set_seed(1)\n",
        "t = tf.random.uniform((6,))\n",
        "print(t.numpy())\n",
        "t_splits = tf.split(t,3) # tách tensor 6 làm 3 phần\n",
        "[item.numpy() for item in t_splits]"
      ]
    },
    {
      "cell_type": "code",
      "source": [
        "\n",
        "A = tf.ones((3,))\n",
        "B = tf.zeros((2,))\n",
        "C = tf.concat([A,B],axis=0)\n",
        "print(C.numpy())"
      ],
      "metadata": {
        "colab": {
          "base_uri": "https://localhost:8080/"
        },
        "id": "rv8ASBOoBU2M",
        "outputId": "e3026dbb-01c5-4040-a227-39818f92bf64"
      },
      "execution_count": 2,
      "outputs": [
        {
          "output_type": "stream",
          "name": "stdout",
          "text": [
            "[1. 1. 1. 0. 0.]\n"
          ]
        }
      ]
    },
    {
      "cell_type": "code",
      "source": [
        "A = tf.ones((3,))\n",
        "B = tf.zeros((3,))\n",
        "S = tf.stack([A,B],axis=1)\n",
        "print(S.numpy())"
      ],
      "metadata": {
        "colab": {
          "base_uri": "https://localhost:8080/"
        },
        "id": "GYBqmvRdBXfW",
        "outputId": "bfe6b7cd-4cdc-4705-cc2e-1cf840da3800"
      },
      "execution_count": 3,
      "outputs": [
        {
          "output_type": "stream",
          "name": "stdout",
          "text": [
            "[[1. 0.]\n",
            " [1. 0.]\n",
            " [1. 0.]]\n"
          ]
        }
      ]
    },
    {
      "cell_type": "code",
      "source": [
        "a = [1.2,3.4,7.5,4.1,5.0,1.0]\n",
        "ds = tf.data.Dataset.from_tensor_slices(a)\n",
        "print(ds)"
      ],
      "metadata": {
        "colab": {
          "base_uri": "https://localhost:8080/"
        },
        "id": "t-sKAeHCBXVL",
        "outputId": "8257ddc0-54e2-429d-941c-d0e0177ca951"
      },
      "execution_count": 4,
      "outputs": [
        {
          "output_type": "stream",
          "name": "stdout",
          "text": [
            "<_TensorSliceDataset element_spec=TensorSpec(shape=(), dtype=tf.float32, name=None)>\n"
          ]
        }
      ]
    },
    {
      "cell_type": "code",
      "source": [
        "for item in ds:\n",
        "  print(item)"
      ],
      "metadata": {
        "colab": {
          "base_uri": "https://localhost:8080/"
        },
        "id": "WP1NNzKXBbqF",
        "outputId": "899f618a-6497-46eb-a024-217356240f28"
      },
      "execution_count": 5,
      "outputs": [
        {
          "output_type": "stream",
          "name": "stdout",
          "text": [
            "tf.Tensor(1.2, shape=(), dtype=float32)\n",
            "tf.Tensor(3.4, shape=(), dtype=float32)\n",
            "tf.Tensor(7.5, shape=(), dtype=float32)\n",
            "tf.Tensor(4.1, shape=(), dtype=float32)\n",
            "tf.Tensor(5.0, shape=(), dtype=float32)\n",
            "tf.Tensor(1.0, shape=(), dtype=float32)\n"
          ]
        }
      ]
    },
    {
      "cell_type": "code",
      "source": [
        "ds_batch = ds.batch(3)\n",
        "for i, elem in enumerate(ds_batch,100):\n",
        "  print('batch {}:'.format(i),elem.numpy())"
      ],
      "metadata": {
        "colab": {
          "base_uri": "https://localhost:8080/"
        },
        "id": "GHFhPHQYBd6p",
        "outputId": "42f63162-91a6-4727-a7d5-300fa04066f3"
      },
      "execution_count": 6,
      "outputs": [
        {
          "output_type": "stream",
          "name": "stdout",
          "text": [
            "batch 100: [1.2 3.4 7.5]\n",
            "batch 101: [4.1 5.  1. ]\n"
          ]
        }
      ]
    },
    {
      "cell_type": "markdown",
      "source": [
        "Join 2 tensor"
      ],
      "metadata": {
        "id": "2OO6XQMOBilR"
      }
    },
    {
      "cell_type": "code",
      "source": [
        "tf.random.set_seed(1)\n",
        "t_x = tf.random.uniform([4,3],dtype=tf.float32)\n",
        "t_y = tf.range(4)\n",
        "print(t_x)\n",
        "print(t_y)"
      ],
      "metadata": {
        "colab": {
          "base_uri": "https://localhost:8080/"
        },
        "id": "lCEaYMC9BfzD",
        "outputId": "ac121600-5cd9-4d5e-c1cf-5ced57a4aafa"
      },
      "execution_count": 7,
      "outputs": [
        {
          "output_type": "stream",
          "name": "stdout",
          "text": [
            "tf.Tensor(\n",
            "[[0.16513085 0.9014813  0.6309742 ]\n",
            " [0.4345461  0.29193902 0.64250207]\n",
            " [0.9757855  0.43509948 0.6601019 ]\n",
            " [0.60489583 0.6366315  0.6144488 ]], shape=(4, 3), dtype=float32)\n",
            "tf.Tensor([0 1 2 3], shape=(4,), dtype=int32)\n"
          ]
        }
      ]
    },
    {
      "cell_type": "code",
      "source": [
        "ds_x = tf.data.Dataset.from_tensor_slices(t_x)\n",
        "ds_y = tf.data.Dataset.from_tensor_slices(t_y)\n",
        "ds_joint = tf.data.Dataset.zip((ds_x,ds_y))\n",
        "for item in ds_joint:\n",
        "  print(' x:', item[0].numpy(),\n",
        "        ' y:',item[1].numpy())\n",
        ""
      ],
      "metadata": {
        "colab": {
          "base_uri": "https://localhost:8080/"
        },
        "id": "bjhcUUvEBmIC",
        "outputId": "6a6e104d-049b-4ed0-a72c-ef19cf21b7e4"
      },
      "execution_count": 8,
      "outputs": [
        {
          "output_type": "stream",
          "name": "stdout",
          "text": [
            " x: [0.16513085 0.9014813  0.6309742 ]  y: 0\n",
            " x: [0.4345461  0.29193902 0.64250207]  y: 1\n",
            " x: [0.9757855  0.43509948 0.6601019 ]  y: 2\n",
            " x: [0.60489583 0.6366315  0.6144488 ]  y: 3\n"
          ]
        }
      ]
    },
    {
      "cell_type": "code",
      "source": [
        "ds_trans = ds_joint.map(lambda x,y:(x*2-1.0,y))\n",
        "for item in ds_trans:\n",
        "  print(' x:', item[0].numpy(),\n",
        "        ' y:',item[1].numpy())"
      ],
      "metadata": {
        "colab": {
          "base_uri": "https://localhost:8080/"
        },
        "id": "vVaWVtS9BokQ",
        "outputId": "646d9f0e-99f7-4c3d-8306-d7961b5c848f"
      },
      "execution_count": 9,
      "outputs": [
        {
          "output_type": "stream",
          "name": "stdout",
          "text": [
            " x: [-0.6697383   0.80296254  0.26194835]  y: 0\n",
            " x: [-0.13090777 -0.41612196  0.28500414]  y: 1\n",
            " x: [ 0.951571   -0.12980103  0.32020378]  y: 2\n",
            " x: [0.20979166 0.27326298 0.22889757]  y: 3\n"
          ]
        }
      ]
    },
    {
      "cell_type": "markdown",
      "source": [
        "shuffle(), batch(), repeat()"
      ],
      "metadata": {
        "id": "JP206mIBBkqP"
      }
    },
    {
      "cell_type": "code",
      "source": [
        "tf.random.set_seed(1)\n",
        "ds = ds_joint.shuffle(buffer_size=len(t_x))\n",
        "for e in ds:\n",
        "  print(' x:', e[0].numpy(),\n",
        "        ' y:',e[1].numpy())"
      ],
      "metadata": {
        "colab": {
          "base_uri": "https://localhost:8080/"
        },
        "id": "ZTkotMemBkZX",
        "outputId": "62eb2374-9774-41fa-91d9-da969d0b7410"
      },
      "execution_count": 10,
      "outputs": [
        {
          "output_type": "stream",
          "name": "stdout",
          "text": [
            " x: [0.9757855  0.43509948 0.6601019 ]  y: 2\n",
            " x: [0.4345461  0.29193902 0.64250207]  y: 1\n",
            " x: [0.16513085 0.9014813  0.6309742 ]  y: 0\n",
            " x: [0.60489583 0.6366315  0.6144488 ]  y: 3\n"
          ]
        }
      ]
    },
    {
      "cell_type": "code",
      "source": [
        "\n",
        "ds = ds_joint.batch(batch_size=3,drop_remainder=False)\n",
        "batch_x,batch_y = next(iter(ds))\n",
        "print('batch x:\\n',batch_x.numpy())\n",
        "print('batch y:\\n',batch_y.numpy())"
      ],
      "metadata": {
        "colab": {
          "base_uri": "https://localhost:8080/"
        },
        "id": "BMsqgxcnBvK7",
        "outputId": "debe6f76-52ad-4d97-fc1c-868afa31ea4e"
      },
      "execution_count": 11,
      "outputs": [
        {
          "output_type": "stream",
          "name": "stdout",
          "text": [
            "batch x:\n",
            " [[0.16513085 0.9014813  0.6309742 ]\n",
            " [0.4345461  0.29193902 0.64250207]\n",
            " [0.9757855  0.43509948 0.6601019 ]]\n",
            "batch y:\n",
            " [0 1 2]\n"
          ]
        }
      ]
    },
    {
      "cell_type": "code",
      "source": [
        "ds = ds_joint.batch(3).repeat(count=2)\n",
        "for i,(batch_x,batch_y) in enumerate(ds):\n",
        "  print(i,batch_x.numpy(),batch_y.numpy())"
      ],
      "metadata": {
        "colab": {
          "base_uri": "https://localhost:8080/"
        },
        "id": "TM5YrpzbBxR2",
        "outputId": "eb847226-46ab-484f-ad35-9a16fd6d2844"
      },
      "execution_count": 12,
      "outputs": [
        {
          "output_type": "stream",
          "name": "stdout",
          "text": [
            "0 [[0.16513085 0.9014813  0.6309742 ]\n",
            " [0.4345461  0.29193902 0.64250207]\n",
            " [0.9757855  0.43509948 0.6601019 ]] [0 1 2]\n",
            "1 [[0.60489583 0.6366315  0.6144488 ]] [3]\n",
            "2 [[0.16513085 0.9014813  0.6309742 ]\n",
            " [0.4345461  0.29193902 0.64250207]\n",
            " [0.9757855  0.43509948 0.6601019 ]] [0 1 2]\n",
            "3 [[0.60489583 0.6366315  0.6144488 ]] [3]\n"
          ]
        }
      ]
    },
    {
      "cell_type": "code",
      "source": [
        "\n",
        "tf.random.set_seed(1)\n",
        "ds = ds_joint.shuffle(4).batch(2).repeat(20)\n",
        "for i,(batch_x,batch_y) in enumerate(ds):\n",
        "   òng này\n",
        "    print(i,batch_x.numpy(),batch_y.numpy())"
      ],
      "metadata": {
        "colab": {
          "base_uri": "https://localhost:8080/"
        },
        "id": "KS6whDPQBzRY",
        "outputId": "d751bc8a-1e6f-4655-f01c-b41ce2678dc9"
      },
      "execution_count": 15,
      "outputs": [
        {
          "output_type": "stream",
          "name": "stdout",
          "text": [
            "0 [[0.9757855  0.43509948 0.6601019 ]\n",
            " [0.4345461  0.29193902 0.64250207]] [2 1]\n",
            "1 [[0.16513085 0.9014813  0.6309742 ]\n",
            " [0.60489583 0.6366315  0.6144488 ]] [0 3]\n",
            "2 [[0.16513085 0.9014813  0.6309742 ]\n",
            " [0.60489583 0.6366315  0.6144488 ]] [0 3]\n",
            "3 [[0.4345461  0.29193902 0.64250207]\n",
            " [0.9757855  0.43509948 0.6601019 ]] [1 2]\n",
            "4 [[0.60489583 0.6366315  0.6144488 ]\n",
            " [0.16513085 0.9014813  0.6309742 ]] [3 0]\n",
            "5 [[0.4345461  0.29193902 0.64250207]\n",
            " [0.9757855  0.43509948 0.6601019 ]] [1 2]\n",
            "6 [[0.4345461  0.29193902 0.64250207]\n",
            " [0.60489583 0.6366315  0.6144488 ]] [1 3]\n",
            "7 [[0.9757855  0.43509948 0.6601019 ]\n",
            " [0.16513085 0.9014813  0.6309742 ]] [2 0]\n",
            "8 [[0.4345461  0.29193902 0.64250207]\n",
            " [0.9757855  0.43509948 0.6601019 ]] [1 2]\n",
            "9 [[0.60489583 0.6366315  0.6144488 ]\n",
            " [0.16513085 0.9014813  0.6309742 ]] [3 0]\n",
            "10 [[0.60489583 0.6366315  0.6144488 ]\n",
            " [0.16513085 0.9014813  0.6309742 ]] [3 0]\n",
            "11 [[0.9757855  0.43509948 0.6601019 ]\n",
            " [0.4345461  0.29193902 0.64250207]] [2 1]\n",
            "12 [[0.60489583 0.6366315  0.6144488 ]\n",
            " [0.16513085 0.9014813  0.6309742 ]] [3 0]\n",
            "13 [[0.4345461  0.29193902 0.64250207]\n",
            " [0.9757855  0.43509948 0.6601019 ]] [1 2]\n",
            "14 [[0.60489583 0.6366315  0.6144488 ]\n",
            " [0.16513085 0.9014813  0.6309742 ]] [3 0]\n",
            "15 [[0.9757855  0.43509948 0.6601019 ]\n",
            " [0.4345461  0.29193902 0.64250207]] [2 1]\n",
            "16 [[0.9757855  0.43509948 0.6601019 ]\n",
            " [0.60489583 0.6366315  0.6144488 ]] [2 3]\n",
            "17 [[0.16513085 0.9014813  0.6309742 ]\n",
            " [0.4345461  0.29193902 0.64250207]] [0 1]\n",
            "18 [[0.4345461  0.29193902 0.64250207]\n",
            " [0.9757855  0.43509948 0.6601019 ]] [1 2]\n",
            "19 [[0.16513085 0.9014813  0.6309742 ]\n",
            " [0.60489583 0.6366315  0.6144488 ]] [0 3]\n",
            "20 [[0.16513085 0.9014813  0.6309742 ]\n",
            " [0.4345461  0.29193902 0.64250207]] [0 1]\n",
            "21 [[0.9757855  0.43509948 0.6601019 ]\n",
            " [0.60489583 0.6366315  0.6144488 ]] [2 3]\n",
            "22 [[0.60489583 0.6366315  0.6144488 ]\n",
            " [0.9757855  0.43509948 0.6601019 ]] [3 2]\n",
            "23 [[0.16513085 0.9014813  0.6309742 ]\n",
            " [0.4345461  0.29193902 0.64250207]] [0 1]\n",
            "24 [[0.60489583 0.6366315  0.6144488 ]\n",
            " [0.16513085 0.9014813  0.6309742 ]] [3 0]\n",
            "25 [[0.4345461  0.29193902 0.64250207]\n",
            " [0.9757855  0.43509948 0.6601019 ]] [1 2]\n",
            "26 [[0.4345461  0.29193902 0.64250207]\n",
            " [0.60489583 0.6366315  0.6144488 ]] [1 3]\n",
            "27 [[0.9757855  0.43509948 0.6601019 ]\n",
            " [0.16513085 0.9014813  0.6309742 ]] [2 0]\n",
            "28 [[0.9757855  0.43509948 0.6601019 ]\n",
            " [0.4345461  0.29193902 0.64250207]] [2 1]\n",
            "29 [[0.16513085 0.9014813  0.6309742 ]\n",
            " [0.60489583 0.6366315  0.6144488 ]] [0 3]\n",
            "30 [[0.9757855  0.43509948 0.6601019 ]\n",
            " [0.60489583 0.6366315  0.6144488 ]] [2 3]\n",
            "31 [[0.16513085 0.9014813  0.6309742 ]\n",
            " [0.4345461  0.29193902 0.64250207]] [0 1]\n",
            "32 [[0.60489583 0.6366315  0.6144488 ]\n",
            " [0.4345461  0.29193902 0.64250207]] [3 1]\n",
            "33 [[0.9757855  0.43509948 0.6601019 ]\n",
            " [0.16513085 0.9014813  0.6309742 ]] [2 0]\n",
            "34 [[0.60489583 0.6366315  0.6144488 ]\n",
            " [0.9757855  0.43509948 0.6601019 ]] [3 2]\n",
            "35 [[0.4345461  0.29193902 0.64250207]\n",
            " [0.16513085 0.9014813  0.6309742 ]] [1 0]\n",
            "36 [[0.60489583 0.6366315  0.6144488 ]\n",
            " [0.16513085 0.9014813  0.6309742 ]] [3 0]\n",
            "37 [[0.9757855  0.43509948 0.6601019 ]\n",
            " [0.4345461  0.29193902 0.64250207]] [2 1]\n",
            "38 [[0.16513085 0.9014813  0.6309742 ]\n",
            " [0.9757855  0.43509948 0.6601019 ]] [0 2]\n",
            "39 [[0.60489583 0.6366315  0.6144488 ]\n",
            " [0.4345461  0.29193902 0.64250207]] [3 1]\n"
          ]
        }
      ]
    }
  ]
}